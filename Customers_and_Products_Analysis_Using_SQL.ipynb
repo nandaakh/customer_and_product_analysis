{
  "nbformat": 4,
  "nbformat_minor": 0,
  "metadata": {
    "colab": {
      "provenance": []
    },
    "kernelspec": {
      "name": "python3",
      "display_name": "Python 3"
    },
    "language_info": {
      "name": "python"
    }
  },
  "cells": [
    {
      "cell_type": "code",
      "source": [
        "import pandas as pd\n",
        "import matplotlib.pyplot as plt\n",
        "import sqlite3"
      ],
      "metadata": {
        "id": "_yDT54xJl8v4"
      },
      "execution_count": 8,
      "outputs": []
    },
    {
      "cell_type": "markdown",
      "source": [
        "This scale cars model database contains eight tables with some information as below\n",
        "- Customers: customer data\n",
        "- Employees: all employee information\n",
        "- Offices: sales office information\n",
        "- Orders: customer's sales order\n",
        "- OrderDetails: sales order line for each sales order\n",
        "- Payments: customer's payment records\n",
        "- Products: a list of scale model cars\n",
        "- productLines: a list of products line catefories"
      ],
      "metadata": {
        "id": "P4ZzP5w3rVbZ"
      }
    },
    {
      "cell_type": "code",
      "source": [
        "# Create connection with database\n",
        "cnn = sqlite3.connect('stores.db')"
      ],
      "metadata": {
        "id": "xaODeepKoxZN"
      },
      "execution_count": 9,
      "outputs": []
    },
    {
      "cell_type": "code",
      "source": [
        "# To select number of attributes and rows as integer, and name tables as string\n",
        "task1 = \"SELECT 'customers' AS table_name, \\\n",
        "       13 AS number_of_attribute, \\\n",
        "       COUNT(*) AS number_of_row \\\n",
        "  FROM customers \\\n",
        "  \\\n",
        "UNION ALL \\\n",
        "\\\n",
        "SELECT 'products' AS table_name, \\\n",
        "       9 AS number_of_attribute, \\\n",
        "       COUNT(*) AS number_of_row \\\n",
        "  FROM products \\\n",
        "  \\\n",
        "UNION ALL \\\n",
        "\\\n",
        "SELECT 'productlines' AS table_name, \\\n",
        "       4 AS number_of_attribute, \\\n",
        "       COUNT(*) AS number_of_row \\\n",
        "  FROM productlines \\\n",
        "  \\\n",
        "UNION ALL \\\n",
        "\\\n",
        "SELECT 'orders' AS table_name, \\\n",
        "       7 AS number_of_attribute, \\\n",
        "       COUNT(*) AS number_of_row \\\n",
        "  FROM orders \\\n",
        "  \\\n",
        "UNION ALL \\\n",
        "\\\n",
        "SELECT 'orderdetails' AS table_name, \\\n",
        "       5 AS number_of_attribute, \\\n",
        "       COUNT(*) AS number_of_row \\\n",
        "  FROM orderdetails \\\n",
        "  \\\n",
        "UNION ALL \\\n",
        "\\\n",
        "SELECT 'payments' AS table_name, \\\n",
        "       4 AS number_of_attribute, \\\n",
        "       COUNT(*) AS number_of_row \\\n",
        "  FROM payments \\\n",
        "  \\\n",
        "UNION ALL \\\n",
        "\\\n",
        "SELECT 'employees' AS table_name, \\\n",
        "       8 AS number_of_attribute, \\\n",
        "       COUNT(*) AS number_of_row \\\n",
        "  FROM employees \\\n",
        "  \\\n",
        "UNION ALL \\\n",
        "\\\n",
        "SELECT 'offices' AS table_name, \\\n",
        "       9 AS number_of_attribute, \\\n",
        "       COUNT(*) AS number_of_row \\\n",
        "  FROM offices;\"\n",
        "\n",
        "result = pd.read_sql_query(task1, cnn)\n",
        "# Display result\n",
        "print(result)\n"
      ],
      "metadata": {
        "colab": {
          "base_uri": "https://localhost:8080/"
        },
        "id": "7tEBme4trwc8",
        "outputId": "5ca6724f-a991-4028-dda0-b739439a2388"
      },
      "execution_count": 10,
      "outputs": [
        {
          "output_type": "stream",
          "name": "stdout",
          "text": [
            "     table_name  number_of_attribute  number_of_row\n",
            "0     customers                   13            122\n",
            "1      products                    9            110\n",
            "2  productlines                    4              7\n",
            "3        orders                    7            326\n",
            "4  orderdetails                    5           2996\n",
            "5      payments                    4            273\n",
            "6     employees                    8             23\n",
            "7       offices                    9              7\n"
          ]
        }
      ]
    },
    {
      "cell_type": "markdown",
      "source": [
        "**** Q1: Which products should we order more or less of? ****"
      ],
      "metadata": {
        "id": "eSQmtFkXv9uU"
      }
    },
    {
      "cell_type": "code",
      "source": [
        "# OD is orderdetails, P is products\n",
        "# Compute low stock\n",
        "lowstock = \"SELECT productCode, \\\n",
        "       ROUND(SUM(quantityOrdered) * 1.0 / (SELECT quantityInStock \\\n",
        "                                          FROM products p \\\n",
        "                                          WHERE od.productCode = p.productCode), 2) AS low_stock \\\n",
        "  FROM orderdetails od \\\n",
        " GROUP BY productCode \\\n",
        " ORDER BY low_stock DESC \\\n",
        " LIMIT 10;\"\n",
        "\n",
        "result = pd.read_sql_query(lowstock, cnn)\n",
        "\n",
        "# Display result\n",
        "print(result)"
      ],
      "metadata": {
        "colab": {
          "base_uri": "https://localhost:8080/"
        },
        "id": "FvKX13gWv2TJ",
        "outputId": "b7095095-0f91-4254-954a-3bdbce0eb589"
      },
      "execution_count": null,
      "outputs": [
        {
          "output_type": "stream",
          "name": "stdout",
          "text": [
            "  productCode  low_stock\n",
            "0    S24_2000      67.67\n",
            "1    S12_1099      13.72\n",
            "2    S32_4289       7.15\n",
            "3    S32_1374       5.70\n",
            "4    S72_3212       2.31\n",
            "5   S700_3167       1.90\n",
            "6    S50_4713       1.65\n",
            "7    S18_2795       1.61\n",
            "8    S18_2248       1.54\n",
            "9   S700_1938       1.22\n"
          ]
        }
      ]
    },
    {
      "cell_type": "code",
      "source": [
        "# To identify which product with highest performance\n",
        "top_products = \"SELECT P.productCode, P.productName, P.productLine, SUM(OD.quantityOrdered * OD.priceEach) AS productPerformance \\\n",
        "FROM products P \\\n",
        "JOIN orderDetails OD ON P.productCode = OD.productCode \\\n",
        "GROUP BY P.productCode, P.productName, P.productLine \\\n",
        "ORDER BY productPerformance DESC \\\n",
        "LIMIT 10;\"\n",
        "\n",
        "result = pd.read_sql_query(top_products, cnn)\n",
        "\n",
        "# Display result\n",
        "print(result)\n",
        "\n",
        "# Visualize it\n",
        "plt.figure(figsize=(10, 6))\n",
        "plt.bar(result['productName'], result['productPerformance'])\n",
        "plt.xlabel('Product Name')\n",
        "plt.ylabel('Product Performance')\n",
        "plt.title('Top 10 Products by Performance')\n",
        "plt.xticks(rotation=90)\n",
        "plt.show()"
      ],
      "metadata": {
        "colab": {
          "base_uri": "https://localhost:8080/",
          "height": 1000
        },
        "id": "h2z8w7ZKxo01",
        "outputId": "f05c0d2d-7982-4a2a-8503-4ae8edc49f2f"
      },
      "execution_count": 11,
      "outputs": [
        {
          "output_type": "stream",
          "name": "stdout",
          "text": [
            "  productCode                           productName   productLine  \\\n",
            "0    S18_3232           1992 Ferrari 360 Spider red  Classic Cars   \n",
            "1    S12_1108                     2001 Ferrari Enzo  Classic Cars   \n",
            "2    S10_1949              1952 Alpine Renault 1300  Classic Cars   \n",
            "3    S10_4698  2003 Harley-Davidson Eagle Drag Bike   Motorcycles   \n",
            "4    S12_1099                     1968 Ford Mustang  Classic Cars   \n",
            "5    S12_3891                      1969 Ford Falcon  Classic Cars   \n",
            "6    S18_1662           1980s Black Hawk Helicopter        Planes   \n",
            "7    S18_2238        1998 Chrysler Plymouth Prowler  Classic Cars   \n",
            "8    S18_1749              1917 Grand Touring Sedan  Vintage Cars   \n",
            "9    S12_2823                      2002 Suzuki XREO   Motorcycles   \n",
            "\n",
            "   productPerformance  \n",
            "0           276839.98  \n",
            "1           190755.86  \n",
            "2           190017.96  \n",
            "3           170686.00  \n",
            "4           161531.48  \n",
            "5           152543.02  \n",
            "6           144959.91  \n",
            "7           142530.63  \n",
            "8           140535.60  \n",
            "9           135767.03  \n"
          ]
        },
        {
          "output_type": "display_data",
          "data": {
            "text/plain": [
              "<Figure size 1000x600 with 1 Axes>"
            ],
            "image/png": "[encoded data removed]"
          },
          "metadata": {}
        }
      ]
    },
    {
      "cell_type": "markdown",
      "source": [
        "Classic Cars lead as the highest stock in terms of performance in sells\n",
        "\n",
        "\n",
        "***** Q2: How should we match marketing and communication strategies to customer behavior? *****"
      ],
      "metadata": {
        "id": "sdwYRovGyOYE"
      }
    },
    {
      "cell_type": "code",
      "source": [
        "# P is products, OD os orderdetails, O is orders\n",
        "# Compute profit\n",
        "profit = \"SELECT O.customerNumber, SUM(OD.quantityOrdered * (OD.priceEach - P.buyPrice)) AS profit \\\n",
        "FROM orders O \\\n",
        "JOIN orderDetails OD ON O.orderNumber = OD.orderNumber \\\n",
        "JOIN products P ON OD.productCode = P.productCode \\\n",
        "GROUP BY O.customerNumber;\"\n",
        "\n",
        "result = pd.read_sql_query(profit, cnn)\n",
        "\n",
        "# Display result\n",
        "print(result)"
      ],
      "metadata": {
        "colab": {
          "base_uri": "https://localhost:8080/"
        },
        "id": "ubTmDGZAyFdC",
        "outputId": "ed4d46cc-dc61-478b-c048-4c9677b59e65"
      },
      "execution_count": null,
      "outputs": [
        {
          "output_type": "stream",
          "name": "stdout",
          "text": [
            "    customerNumber    profit\n",
            "0              103  10063.80\n",
            "1              112  31312.72\n",
            "2              114  70311.07\n",
            "3              119  60875.30\n",
            "4              121  41391.52\n",
            "..             ...       ...\n",
            "93             486  33598.57\n",
            "94             487  17230.12\n",
            "95             489  10868.04\n",
            "96             495  25244.69\n",
            "97             496  51771.50\n",
            "\n",
            "[98 rows x 2 columns]\n"
          ]
        }
      ]
    },
    {
      "cell_type": "code",
      "source": [
        "# Query below to identify top 5 VIP customers and top 5 as less customers who involved\n",
        "# To indicate top 5 VIP customers\n",
        "vip = \"WITH customerProfit AS ( \\\n",
        "    SELECT O.customerNumber, SUM(OD.quantityOrdered * (OD.priceEach - P.buyPrice)) AS profit \\\n",
        "    FROM orders O \\\n",
        "    JOIN orderDetails OD ON O.orderNumber = OD.orderNumber \\\n",
        "    JOIN products P ON OD.productCode = P.productCode \\\n",
        "    GROUP BY O.customerNumber) \\\n",
        "SELECT C.contactLastName, C.contactFirstName, C.city, C.country, CP.profit \\\n",
        "FROM customers C \\\n",
        "JOIN customerProfit CP ON C.customerNumber = CP.customerNumber \\\n",
        "ORDER BY CP.profit DESC \\\n",
        "LIMIT 5\"\n",
        "\n",
        "result = pd.read_sql_query(vip, cnn)\n",
        "\n",
        "# Display result\n",
        "print(result)"
      ],
      "metadata": {
        "colab": {
          "base_uri": "https://localhost:8080/"
        },
        "id": "9AdC-8i7za2G",
        "outputId": "a04a28ad-caaf-4808-9762-a8da21459189"
      },
      "execution_count": null,
      "outputs": [
        {
          "output_type": "stream",
          "name": "stdout",
          "text": [
            "  contactLastName contactFirstName        city    country     profit\n",
            "0          Freyre           Diego       Madrid      Spain  326519.66\n",
            "1          Nelson            Susan  San Rafael        USA  236769.39\n",
            "2           Young             Jeff         NYC        USA   72370.09\n",
            "3        Ferguson            Peter   Melbourne  Australia   70311.07\n",
            "4         Labrune          Janine       Nantes     France   60875.30\n"
          ]
        }
      ]
    },
    {
      "cell_type": "code",
      "source": [
        "# To indicate top 5 less customers \n",
        "less_cust = \"WITH customerProfit AS ( \\\n",
        "    SELECT O.customerNumber, SUM(OD.quantityOrdered * (OD.priceEach - P.buyPrice)) AS profit \\\n",
        "    FROM orders O \\\n",
        "    JOIN orderDetails OD ON O.orderNumber = OD.orderNumber \\\n",
        "    JOIN products P ON OD.productCode = P.productCode \\\n",
        "    GROUP BY O.customerNumber \\\n",
        ") \\\n",
        "SELECT C.contactLastName, C.contactFirstName, C.city, C.country, CP.profit \\\n",
        "FROM customers C \\\n",
        "JOIN customerProfit CP ON C.customerNumber = CP.customerNumber \\\n",
        "ORDER BY CP.profit ASC \\\n",
        "LIMIT 5;\"\n",
        "\n",
        "result = pd.read_sql_query(less_cust, cnn)\n",
        "\n",
        "# Display result\n",
        "print(result)"
      ],
      "metadata": {
        "colab": {
          "base_uri": "https://localhost:8080/"
        },
        "id": "Jv3uLas30HXD",
        "outputId": "9f451e2e-467d-4d1a-d44c-f4671032ff70"
      },
      "execution_count": null,
      "outputs": [
        {
          "output_type": "stream",
          "name": "stdout",
          "text": [
            "  contactLastName contactFirstName        city country    profit\n",
            "0           Young             Mary    Glendale     USA   2610.87\n",
            "1          Taylor           Leslie  Brickhaven     USA   6586.02\n",
            "2         Ricotti           Franco       Milan   Italy   9532.93\n",
            "3         Schmitt          Carine       Nantes  France  10063.80\n",
            "4           Smith          Thomas       London      UK  10868.04\n"
          ]
        }
      ]
    },
    {
      "cell_type": "markdown",
      "source": [
        "***** Q3: How Much Can We Spend on Acquiring New Customers? *****"
      ],
      "metadata": {
        "id": "j3jnNino1omC"
      }
    },
    {
      "cell_type": "code",
      "source": [
        "# Calculate customer profit average/customer LTV = 39039.5943877551\n",
        "ltv_score = \"WITH customerProfit AS ( \\\n",
        "    SELECT O.customerNumber, SUM(OD.quantityOrdered * (OD.priceEach - P.buyPrice)) AS profit \\\n",
        "    FROM orders O \\\n",
        "    JOIN orderDetails OD ON O.orderNumber = OD.orderNumber \\\n",
        "    JOIN products P ON OD.productCode = P.productCode \\\n",
        "    GROUP BY O.customerNumber \\\n",
        ") \\\n",
        "SELECT AVG(profit) AS averageProfit \\\n",
        "FROM customerProfit;\"\n",
        "\n",
        "result = pd.read_sql_query(ltv_score, cnn)\n",
        "\n",
        "# Display result\n",
        "print(result)"
      ],
      "metadata": {
        "colab": {
          "base_uri": "https://localhost:8080/"
        },
        "id": "1aMq1XgB1Pc1",
        "outputId": "b767f875-6ee3-4bf7-db72-98394ab1ded5"
      },
      "execution_count": null,
      "outputs": [
        {
          "output_type": "stream",
          "name": "stdout",
          "text": [
            "   averageProfit\n",
            "0   39039.594388\n"
          ]
        }
      ]
    },
    {
      "cell_type": "code",
      "source": [
        "# Terminate Connection\n",
        "cnn.close()"
      ],
      "metadata": {
        "id": "Aad2rw3H2Aei"
      },
      "execution_count": null,
      "outputs": []
    },
    {
      "cell_type": "markdown",
      "source": [
        "### **Conclusion**\n",
        "\n",
        "Based on the information we get through analyzed data using these queries, we found that\n",
        "\n",
        "1. Classic Cars are the top priority for restocking. They sell frequently and became the highest-performance products\n",
        "2. We found that the top customers who gave their commit to these products, and that's very important, because with this information we can drive loyalty to attract and raise more awareness and also drive marketing strategies as well.\n",
        "3. Calculate the Customer Lifetime Value (LTV) It tells us how much profit an average customer generates during their lifetime with our store, we use it the score to predict our future profit. We got 39039.594388 dollars and based on this finding we can decide predict on how much we can spend on acquiring customers."
      ],
      "metadata": {
        "id": "65PUbBJJgLgu"
      }
    }
  ]
}